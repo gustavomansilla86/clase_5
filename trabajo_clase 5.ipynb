{
 "cells": [
  {
   "cell_type": "markdown",
   "metadata": {},
   "source": [
    "## calculadora simple\n"
   ]
  },
  {
   "cell_type": "code",
   "execution_count": 1,
   "metadata": {},
   "outputs": [],
   "source": [
    "a= int(input(\"ingrese primer un numero: \"))\n",
    "b= int(input(\"ingrese segundo un numero: \"))\n",
    "operacion=int(input(\"ingrese 1 para multiplicar, 2 para dividir, 3 para sumar, 4 para restar: \"))\n",
    "if operacion ==1:\n",
    "     resultado=a*b  \n",
    "     print(\"el resultado es: \", resultado)\n",
    "\n",
    "elif operacion ==2:\n",
    "     resultado=a/b\n",
    "     print(\"el resultado es: \", resultado)\n",
    "elif operacion ==3:\n",
    "     resultado=a+b\n",
    "     print(\"el resultado es: \", resultado)\n",
    "elif operacion ==4:\n",
    "      resultado=a-b\n",
    "      print(\"el resultado es: \", resultado)\n"
   ]
  },
  {
   "cell_type": "markdown",
   "metadata": {},
   "source": [
    "## Contador de Números Pares e Impares:"
   ]
  },
  {
   "cell_type": "code",
   "execution_count": 1,
   "metadata": {},
   "outputs": [
    {
     "name": "stdout",
     "output_type": "stream",
     "text": [
      "los pares son  10\n",
      "lista de pares  [0, 2, 4, 6, 8, 10, 12, 14, 16, 18]\n",
      "\n",
      "los impares son  10\n",
      "lista de impares  [1, 3, 5, 7, 9, 11, 13, 15, 17, 19]\n"
     ]
    }
   ],
   "source": [
    "lista_n = list(range(20))\n",
    "par=[]\n",
    "impar=[]\n",
    "for n in lista_n:\n",
    "    if n % 2 == 0:\n",
    "      par.append(n)\n",
    "      \n",
    "    else:\n",
    "      impar.append(n)\n",
    "print(\"los pares son \",len(par))\n",
    "print(\"lista de pares \",par)\n",
    "print( )\n",
    "print(\"los impares son \",len(impar))\n",
    "print(\"lista de impares \",impar)"
   ]
  },
  {
   "cell_type": "markdown",
   "metadata": {},
   "source": [
    "## Validación de Contraseña"
   ]
  },
  {
   "cell_type": "code",
   "execution_count": null,
   "metadata": {},
   "outputs": [],
   "source": [
    "while True:\n",
    "  contraseña= str(input(\"ingrese contraseña: \"))\n",
    "  if contraseña.lower() == \"python123\":\n",
    "    print(\"contraseña correcta\")\n",
    "    break\n",
    "  else:\n",
    "    print(\"contraseña incorrecta\")"
   ]
  },
  {
   "cell_type": "markdown",
   "metadata": {},
   "source": [
    "## Identificador de Números Primos"
   ]
  },
  {
   "cell_type": "code",
   "execution_count": null,
   "metadata": {},
   "outputs": [],
   "source": [
    "def numeros_primos():\n",
    " numero= int(input(\"ingresar numero: \"))\n",
    " if numero > 1:\n",
    "   for i in range(2,numero):\n",
    "    if numero % i ==0: \n",
    "     print(\"el numero no es primo\")\n",
    "     return\n",
    "    \n",
    "    else :\n",
    "     print(\"el numero es primo\")\n",
    "    return\n",
    " else:\n",
    "    print(\"el numero debe ser mayor que 1\")\n",
    "\n",
    "numeros_primos()"
   ]
  },
  {
   "cell_type": "markdown",
   "metadata": {},
   "source": [
    "## Juego de Adivinanza"
   ]
  },
  {
   "cell_type": "code",
   "execution_count": null,
   "metadata": {},
   "outputs": [],
   "source": [
    "def adivinaza():\n",
    "\n",
    " numero_aleatorio = 27\n",
    " while True:\n",
    "  intento = int(input(\"Adivine el número entre 1 y 50: \"))\n",
    "  if intento < numero_aleatorio:\n",
    "    print(\"Demasiado bajo, intente de nuevo\")\n",
    "  elif intento > numero_aleatorio:\n",
    "    print(\"Demasiado alto, intente de nuevo\")\n",
    "  elif intento == numero_aleatorio:\n",
    "    print(\"¡Felicidades! Adivinó el número\")\n",
    "    break\n",
    "adivinaza()"
   ]
  },
  {
   "cell_type": "markdown",
   "metadata": {},
   "source": [
    "## Tabla de Multiplicar"
   ]
  },
  {
   "cell_type": "code",
   "execution_count": 1,
   "metadata": {},
   "outputs": [],
   "source": [
    "def tablas():\n",
    "  numero=int(input(\"ingrese un numero para multiplicar: \"))\n",
    "  for n in range(1,11):\n",
    "   print(numero,\"x \",n,\"  = \",numero*n)\n",
    "tablas()"
   ]
  }
 ],
 "metadata": {
  "kernelspec": {
   "display_name": "Python 3",
   "language": "python",
   "name": "python3"
  },
  "language_info": {
   "codemirror_mode": {
    "name": "ipython",
    "version": 3
   },
   "file_extension": ".py",
   "mimetype": "text/x-python",
   "name": "python",
   "nbconvert_exporter": "python",
   "pygments_lexer": "ipython3",
   "version": "3.11.9"
  }
 },
 "nbformat": 4,
 "nbformat_minor": 2
}
